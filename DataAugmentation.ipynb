{
 "cells": [
  {
   "cell_type": "code",
   "execution_count": 1,
   "id": "88f39d35",
   "metadata": {},
   "outputs": [],
   "source": [
    "from tensorflow.keras.preprocessing.image import ImageDataGenerator\n",
    "import cv2\n",
    "import numpy as np"
   ]
  },
  {
   "cell_type": "code",
   "execution_count": 5,
   "id": "96ea2e5d",
   "metadata": {},
   "outputs": [],
   "source": [
    "img = cv2.imread('/Users/armingolzar/Machine Learning Study Project/test_fire/images9.jpeg')\n",
    "img = cv2.cvtColor(img, cv2.COLOR_BGR2RGB)\n",
    "img = np.array([img])"
   ]
  },
  {
   "cell_type": "code",
   "execution_count": 7,
   "id": "e6a5e2e9",
   "metadata": {},
   "outputs": [],
   "source": [
    "aug = ImageDataGenerator(rotation_range=30,\n",
    "                         width_shift_range=0.1,\n",
    "                         height_shift_range=0.1,\n",
    "                         shear_range=0.2,\n",
    "                         zoom_range=0.2,\n",
    "                         horizontal_flip=True,\n",
    "                         fill_mode='nearest'\n",
    "                        )\n",
    "\n",
    "imageGen = aug.flow(img, batch_size=1, save_to_dir='aug_data', save_format='jpg')"
   ]
  },
  {
   "cell_type": "code",
   "execution_count": 8,
   "id": "ed472c48",
   "metadata": {},
   "outputs": [],
   "source": [
    "total = 0\n",
    "\n",
    "for image in imageGen:\n",
    "    total+=1\n",
    "    if total == 10: break"
   ]
  },
  {
   "cell_type": "code",
   "execution_count": null,
   "id": "15e5d059",
   "metadata": {},
   "outputs": [],
   "source": []
  }
 ],
 "metadata": {
  "kernelspec": {
   "display_name": "eKYC_kernel",
   "language": "python",
   "name": "ekyc_kernel"
  },
  "language_info": {
   "codemirror_mode": {
    "name": "ipython",
    "version": 3
   },
   "file_extension": ".py",
   "mimetype": "text/x-python",
   "name": "python",
   "nbconvert_exporter": "python",
   "pygments_lexer": "ipython3",
   "version": "3.8.5"
  }
 },
 "nbformat": 4,
 "nbformat_minor": 5
}
