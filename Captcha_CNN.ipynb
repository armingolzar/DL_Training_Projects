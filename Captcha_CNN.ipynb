{
 "cells": [
  {
   "cell_type": "code",
   "execution_count": null,
   "id": "659a0ce9",
   "metadata": {},
   "outputs": [],
   "source": [
    "import cv2 \n",
    "import numpy as np\n",
    "import glob\n",
    "from sklearn.model_selection import train_test_split\n",
    "from sklearn.preprocessing import LabelBinarizer\n",
    "from tensorflow.keras import layers, models\n",
    "import matplotlib.pyplot as plt\n",
    "plt.style.use('ggplot')"
   ]
  },
  {
   "cell_type": "code",
   "execution_count": null,
   "id": "8a70bd9e",
   "metadata": {},
   "outputs": [],
   "source": [
    "def load_data():\n",
    "    all_images = []\n",
    "    all_labels = []\n",
    "    lb = LabelBinarizer()\n",
    "\n",
    "    for index, item in enumerate(glob.glob('/Users/armingolzar/Machine Learning Study Project/kapcha/*/*')):\n",
    "        img = cv2.imread(item)\n",
    "        img = cv2.resize(img, (32, 32))\n",
    "        img = img/255.0\n",
    "        all_images.append(img)\n",
    "\n",
    "        label = item.split('/')[5]\n",
    "        all_labels.append(label)\n",
    "\n",
    "        if index%100 == 0:\n",
    "            print('[INFO] {}/2000 data were processed'.format(index))\n",
    "\n",
    "    all_images = np.array(all_images)\n",
    "    all_labels = lb.fit_transform(all_labels)\n",
    "    \n",
    "    x_train, x_test, y_train, y_test = train_test_split(all_images, all_labels, test_size=0.2, random_state=42)\n",
    "    \n",
    "    return x_train, x_test, y_train, y_test"
   ]
  },
  {
   "cell_type": "code",
   "execution_count": null,
   "id": "e3ced466",
   "metadata": {},
   "outputs": [],
   "source": [
    "x_train, x_test, y_train, y_test = load_data()"
   ]
  },
  {
   "cell_type": "code",
   "execution_count": 22,
   "id": "4e1c38f9",
   "metadata": {},
   "outputs": [],
   "source": [
    "def CNN_Net():\n",
    "    net = models.Sequential([\n",
    "                            layers.Conv2D(32, (3, 3), activation='relu', padding='same', input_shape=(32, 32, 3)),\n",
    "                            layers.BatchNormalization(),\n",
    "                            layers.MaxPool2D((2, 2)),\n",
    "                            layers.Conv2D(64, (3, 3), activation='relu', padding='same'),\n",
    "                            layers.BatchNormalization(),\n",
    "                            layers.MaxPool2D((2,2)), \n",
    "                            layers.Flatten(),\n",
    "                            layers.Dense(32, activation='relu'),\n",
    "                            layers.BatchNormalization(),\n",
    "                            layers.Dense(9, activation='softmax')\n",
    "                            ])\n",
    "    net.compile(loss = 'categorical_crossentropy',\n",
    "                optimizer = 'sgd',\n",
    "                metrics = ['accuracy'])\n",
    "    \n",
    "    return net"
   ]
  },
  {
   "cell_type": "code",
   "execution_count": 23,
   "id": "ee54e1fc",
   "metadata": {},
   "outputs": [],
   "source": [
    "net = CNN_Net()"
   ]
  },
  {
   "cell_type": "code",
   "execution_count": 14,
   "id": "5f6828f6",
   "metadata": {},
   "outputs": [
    {
     "name": "stdout",
     "output_type": "stream",
     "text": [
      "(1609, 32, 32, 3)\n",
      "(1609, 9)\n",
      "(403, 32, 32, 3)\n",
      "(403, 9)\n"
     ]
    }
   ],
   "source": [
    "print(x_train.shape)\n",
    "print(y_train.shape)\n",
    "print(x_test.shape)\n",
    "print(y_test.shape)"
   ]
  },
  {
   "cell_type": "code",
   "execution_count": 15,
   "id": "632c64e4",
   "metadata": {},
   "outputs": [
    {
     "name": "stderr",
     "output_type": "stream",
     "text": [
      "2023-02-28 18:29:55.158918: I tensorflow/compiler/mlir/mlir_graph_optimization_pass.cc:116] None of the MLIR optimization passes are enabled (registered 2)\n"
     ]
    },
    {
     "name": "stdout",
     "output_type": "stream",
     "text": [
      "Epoch 1/20\n",
      "51/51 [==============================] - 2s 26ms/step - loss: 0.5529 - accuracy: 0.8820 - val_loss: 2.3728 - val_accuracy: 0.3176\n",
      "Epoch 2/20\n",
      "51/51 [==============================] - 1s 20ms/step - loss: 0.0892 - accuracy: 0.9982 - val_loss: 2.6157 - val_accuracy: 0.2457\n",
      "Epoch 3/20\n",
      "51/51 [==============================] - 1s 19ms/step - loss: 0.0667 - accuracy: 0.9994 - val_loss: 2.6803 - val_accuracy: 0.2184\n",
      "Epoch 4/20\n",
      "51/51 [==============================] - 1s 19ms/step - loss: 0.0562 - accuracy: 0.9996 - val_loss: 2.6147 - val_accuracy: 0.2184\n",
      "Epoch 5/20\n",
      "51/51 [==============================] - 1s 20ms/step - loss: 0.0506 - accuracy: 0.9996 - val_loss: 2.4315 - val_accuracy: 0.3176\n",
      "Epoch 6/20\n",
      "51/51 [==============================] - 1s 20ms/step - loss: 0.0606 - accuracy: 0.9968 - val_loss: 1.9962 - val_accuracy: 0.4169\n",
      "Epoch 7/20\n",
      "51/51 [==============================] - 1s 21ms/step - loss: 0.0462 - accuracy: 0.9979 - val_loss: 1.5158 - val_accuracy: 0.4715\n",
      "Epoch 8/20\n",
      "51/51 [==============================] - 1s 20ms/step - loss: 0.0396 - accuracy: 0.9984 - val_loss: 0.9873 - val_accuracy: 0.6675\n",
      "Epoch 9/20\n",
      "51/51 [==============================] - 1s 20ms/step - loss: 0.0340 - accuracy: 0.9998 - val_loss: 0.7537 - val_accuracy: 0.7469\n",
      "Epoch 10/20\n",
      "51/51 [==============================] - 1s 20ms/step - loss: 0.0427 - accuracy: 0.9989 - val_loss: 0.2553 - val_accuracy: 1.0000\n",
      "Epoch 11/20\n",
      "51/51 [==============================] - 1s 20ms/step - loss: 0.0337 - accuracy: 0.9990 - val_loss: 0.1186 - val_accuracy: 1.0000\n",
      "Epoch 12/20\n",
      "51/51 [==============================] - 1s 21ms/step - loss: 0.0296 - accuracy: 0.9991 - val_loss: 0.0633 - val_accuracy: 1.0000\n",
      "Epoch 13/20\n",
      "51/51 [==============================] - 1s 20ms/step - loss: 0.0322 - accuracy: 0.9984 - val_loss: 0.0386 - val_accuracy: 1.0000\n",
      "Epoch 14/20\n",
      "51/51 [==============================] - 1s 20ms/step - loss: 0.0274 - accuracy: 0.9988 - val_loss: 0.0233 - val_accuracy: 1.0000\n",
      "Epoch 15/20\n",
      "51/51 [==============================] - 1s 20ms/step - loss: 0.0312 - accuracy: 0.9980 - val_loss: 0.0202 - val_accuracy: 1.0000\n",
      "Epoch 16/20\n",
      "51/51 [==============================] - 1s 20ms/step - loss: 0.0219 - accuracy: 0.9996 - val_loss: 0.0319 - val_accuracy: 1.0000\n",
      "Epoch 17/20\n",
      "51/51 [==============================] - 1s 20ms/step - loss: 0.0236 - accuracy: 0.9992 - val_loss: 0.0214 - val_accuracy: 1.0000\n",
      "Epoch 18/20\n",
      "51/51 [==============================] - 1s 20ms/step - loss: 0.0249 - accuracy: 0.9992 - val_loss: 0.0139 - val_accuracy: 1.0000\n",
      "Epoch 19/20\n",
      "51/51 [==============================] - 1s 21ms/step - loss: 0.0250 - accuracy: 0.9983 - val_loss: 0.0114 - val_accuracy: 1.0000\n",
      "Epoch 20/20\n",
      "51/51 [==============================] - 1s 20ms/step - loss: 0.0198 - accuracy: 0.9997 - val_loss: 0.0120 - val_accuracy: 1.0000\n"
     ]
    }
   ],
   "source": [
    "H = net.fit(x_train, y_train, epochs=20, batch_size=32, validation_data = (x_test, y_test))"
   ]
  },
  {
   "cell_type": "code",
   "execution_count": 25,
   "id": "f2be744b",
   "metadata": {},
   "outputs": [],
   "source": [
    "def visualization(H):\n",
    "    plt.plot(H.history['accuracy'], label = 'train_accuracy')\n",
    "    plt.plot(H.history['val_accuracy'], label = 'test_accuracy')\n",
    "    plt.plot(H.history['loss'], label = 'train_loss')\n",
    "    plt.plot(H.history['val_loss'], label = 'test_loss')\n",
    "    plt.xlabel('epochs')\n",
    "    plt.ylabel('accuracy/loss')\n",
    "    plt.title('kapcha classification')\n",
    "    plt.legend()\n",
    "    plt.show() "
   ]
  },
  {
   "cell_type": "code",
   "execution_count": 26,
   "id": "309579b9",
   "metadata": {},
   "outputs": [
    {
     "data": {
      "image/png": "[encoded data removed]",
      "text/plain": [
       "<Figure size 640x480 with 1 Axes>"
      ]
     },
     "metadata": {},
     "output_type": "display_data"
    }
   ],
   "source": [
    "visualization(H)"
   ]
  },
  {
   "cell_type": "code",
   "execution_count": 1,
   "id": "07ebb817",
   "metadata": {},
   "outputs": [
    {
     "ename": "NameError",
     "evalue": "name 'net' is not defined",
     "output_type": "error",
     "traceback": [
      "\u001b[0;31m---------------------------------------------------------------------------\u001b[0m",
      "\u001b[0;31mNameError\u001b[0m                                 Traceback (most recent call last)",
      "Input \u001b[0;32mIn [1]\u001b[0m, in \u001b[0;36m<cell line: 1>\u001b[0;34m()\u001b[0m\n\u001b[0;32m----> 1\u001b[0m \u001b[43mnet\u001b[49m\u001b[38;5;241m.\u001b[39msave(\u001b[38;5;124m'\u001b[39m\u001b[38;5;124mkapcha_classifier.h5\u001b[39m\u001b[38;5;124m'\u001b[39m)\n",
      "\u001b[0;31mNameError\u001b[0m: name 'net' is not defined"
     ]
    }
   ],
   "source": [
    "net.save('kapcha_classifier.h5')"
   ]
  },
  {
   "cell_type": "code",
   "execution_count": null,
   "id": "80a64149",
   "metadata": {},
   "outputs": [],
   "source": []
  },
  {
   "cell_type": "code",
   "execution_count": null,
   "id": "de5aab21",
   "metadata": {},
   "outputs": [],
   "source": []
  },
  {
   "cell_type": "code",
   "execution_count": null,
   "id": "61e20aab",
   "metadata": {},
   "outputs": [],
   "source": []
  },
  {
   "cell_type": "code",
   "execution_count": null,
   "id": "be46e975",
   "metadata": {},
   "outputs": [],
   "source": []
  },
  {
   "cell_type": "code",
   "execution_count": null,
   "id": "efc08b90",
   "metadata": {},
   "outputs": [],
   "source": []
  },
  {
   "cell_type": "code",
   "execution_count": null,
   "id": "54167cde",
   "metadata": {},
   "outputs": [],
   "source": []
  },
  {
   "cell_type": "code",
   "execution_count": null,
   "id": "9be134ec",
   "metadata": {},
   "outputs": [],
   "source": []
  },
  {
   "cell_type": "code",
   "execution_count": null,
   "id": "859e09ab",
   "metadata": {},
   "outputs": [],
   "source": []
  },
  {
   "cell_type": "code",
   "execution_count": null,
   "id": "266b5ed5",
   "metadata": {},
   "outputs": [],
   "source": []
  },
  {
   "cell_type": "code",
   "execution_count": null,
   "id": "0dde4511",
   "metadata": {},
   "outputs": [],
   "source": []
  },
  {
   "cell_type": "code",
   "execution_count": null,
   "id": "78a6c7be",
   "metadata": {},
   "outputs": [],
   "source": []
  },
  {
   "cell_type": "code",
   "execution_count": null,
   "id": "97985839",
   "metadata": {},
   "outputs": [],
   "source": []
  },
  {
   "cell_type": "code",
   "execution_count": null,
   "id": "d6aebdbe",
   "metadata": {},
   "outputs": [],
   "source": []
  },
  {
   "cell_type": "code",
   "execution_count": null,
   "id": "be6b7e08",
   "metadata": {},
   "outputs": [],
   "source": []
  },
  {
   "cell_type": "code",
   "execution_count": null,
   "id": "c3fc5997",
   "metadata": {},
   "outputs": [],
   "source": []
  },
  {
   "cell_type": "code",
   "execution_count": null,
   "id": "4b839599",
   "metadata": {},
   "outputs": [],
   "source": []
  }
 ],
 "metadata": {
  "kernelspec": {
   "display_name": "eKYC_kernel",
   "language": "python",
   "name": "ekyc_kernel"
  },
  "language_info": {
   "codemirror_mode": {
    "name": "ipython",
    "version": 3
   },
   "file_extension": ".py",
   "mimetype": "text/x-python",
   "name": "python",
   "nbconvert_exporter": "python",
   "pygments_lexer": "ipython3",
   "version": "3.8.5"
  }
 },
 "nbformat": 4,
 "nbformat_minor": 5
}
